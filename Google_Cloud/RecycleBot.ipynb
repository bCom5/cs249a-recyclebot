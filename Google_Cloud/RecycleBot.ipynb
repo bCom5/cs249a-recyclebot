{
 "cells": [
  {
   "cell_type": "code",
   "execution_count": 7,
   "metadata": {},
   "outputs": [],
   "source": [
    "from google.cloud import vision\n",
    "import io"
   ]
  },
  {
   "cell_type": "code",
   "execution_count": 14,
   "metadata": {},
   "outputs": [],
   "source": [
    "def get_labels(path):\n",
    "    client = vision.ImageAnnotatorClient()\n",
    "    with io.open(path, 'rb') as image_file:\n",
    "        content = image_file.read()\n",
    "\n",
    "    image = vision.types.Image(content=content)\n",
    "\n",
    "    response = client.label_detection(image=image)\n",
    "    labels = response.label_annotations\n",
    "    return [label.description for label in labels]"
   ]
  },
  {
   "cell_type": "code",
   "execution_count": 22,
   "metadata": {},
   "outputs": [
    {
     "data": {
      "text/plain": [
       "['Food storage containers', 'Plastic', 'Lid', 'Box', 'Tableware', 'Rectangle']"
      ]
     },
     "execution_count": 22,
     "metadata": {},
     "output_type": "execute_result"
    }
   ],
   "source": [
    "get_labels('/Users/btl787/05-downloads/styrofoam.jpg')"
   ]
  },
  {
   "cell_type": "code",
   "execution_count": 16,
   "metadata": {},
   "outputs": [],
   "source": [
    "waste_labels = {}"
   ]
  },
  {
   "cell_type": "code",
   "execution_count": 17,
   "metadata": {},
   "outputs": [],
   "source": [
    "recyling_labels = [\n",
    "    'plastics',\n",
    "    'bottles',\n",
    "    'paper',\n",
    "    'cardboard',\n",
    "    'cereal',\n",
    "    'boxes',\n",
    "    'magazines',\n",
    "    'mail',\n",
    "    'office paper',\n",
    "    'newspaper',\n",
    "    'metal',\n",
    "    'tin',\n",
    "    'aluminum',\n",
    "    'steel',\n",
    "    'can',\n",
    "    'glass',\n",
    "    'soft drink',\n",
    "    'beer',\n",
    "]"
   ]
  },
  {
   "cell_type": "code",
   "execution_count": null,
   "metadata": {},
   "outputs": [],
   "source": [
    "trash = [\n",
    "    'plastic bags',\n",
    "    'plastic stretch wray',\n",
    "    'foam cups',\n",
    "    'foam',\n",
    "    'plastic utensils',\n",
    "    'grocery bags',\n",
    "    'bottle caps',\n",
    "    'syrofoam',\n",
    "    'wrapper',\n",
    "    'chip bags',\n",
    "    'chips',\n",
    "    'potato chip',\n",
    "    'food storage containers'\n",
    "]"
   ]
  },
  {
   "cell_type": "code",
   "execution_count": null,
   "metadata": {},
   "outputs": [],
   "source": [
    "compost = [\n",
    "    'meat',\n",
    "    'fish',\n",
    "    'dairy',\n",
    "    'fruit',\n",
    "    'vegetables',\n",
    "    'shells',\n",
    "    'bones',\n",
    "    'pasta',\n",
    "    'rice',\n",
    "    'eggshells',\n",
    "    'nutshells',\n",
    "    'bread',\n",
    "    'grains',\n",
    "    'scraps',\n",
    "    'leftovers',\n",
    "    'coffee',\n",
    "    'coffee grounds',\n",
    "    'coffee filters',\n",
    "    'tea bags',\n",
    "    'soiled',\n",
    "    'soiled paper bags',\n",
    "    'paper towels',\n",
    "    'paper napkins',\n",
    "    'paper egg cartons',\n",
    "    'paper plates',\n",
    "    'plants',\n",
    "    'flowers',\n",
    "    'vegetation',\n",
    "    'wood',\n",
    "    'scraps'\n",
    "]"
   ]
  }
 ],
 "metadata": {
  "kernelspec": {
   "display_name": "Python 3",
   "language": "python",
   "name": "python3"
  },
  "language_info": {
   "codemirror_mode": {
    "name": "ipython",
    "version": 3
   },
   "file_extension": ".py",
   "mimetype": "text/x-python",
   "name": "python",
   "nbconvert_exporter": "python",
   "pygments_lexer": "ipython3",
   "version": "3.7.3"
  }
 },
 "nbformat": 4,
 "nbformat_minor": 2
}
